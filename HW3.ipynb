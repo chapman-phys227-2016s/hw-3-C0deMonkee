{
 "cells": [
  {
   "cell_type": "code",
   "execution_count": 1,
   "metadata": {
    "collapsed": false
   },
   "outputs": [],
   "source": [
    "import numpy as np\n",
    "import Loan as p1\n",
    "import root_finder_examples as p2\n",
    "import arclength as p3\n",
    "import sin_Taylor_series_diffeq as p4"
   ]
  },
  {
   "cell_type": "markdown",
   "metadata": {},
   "source": [
    "# Problem 1: Loan calculator\n",
    "## Determines payments for loans\n",
    "\n",
    "This problem outputs the payment you must make each month"
   ]
  },
  {
   "cell_type": "code",
   "execution_count": 2,
   "metadata": {
    "collapsed": false
   },
   "outputs": [
    {
     "name": "stdout",
     "output_type": "stream",
     "text": [
      "Loan Payment: 104.166666667\n",
      "Loan Payment: 103.75\n",
      "Loan Payment: 103.333333333\n",
      "Loan Payment: 102.916666667\n",
      "Loan Payment: 102.5\n",
      "Loan Payment: 102.083333333\n",
      "Loan Payment: 101.666666667\n",
      "Loan Payment: 101.25\n",
      "Loan Payment: 100.833333333\n",
      "Loan Payment: 100.416666667\n"
     ]
    }
   ],
   "source": [
    "p1.equations(1000, 10, 5)"
   ]
  },
  {
   "cell_type": "markdown",
   "metadata": {},
   "source": [
    "# Problem 2: Root Finder\n",
    "## Uses different methods (outputted answers as an array)\n",
    "\n",
    "The first element is Newton's method, the second is the Bisector method, and the third is the Secant method for the equation 0 = sin(x) "
   ]
  },
  {
   "cell_type": "code",
   "execution_count": 3,
   "metadata": {
    "collapsed": false
   },
   "outputs": [
    {
     "name": "stdout",
     "output_type": "stream",
     "text": [
      "(3.311802132639069e-05, -7.62939453125e-06, -5.3642541555028803e-29)\n"
     ]
    }
   ],
   "source": [
    "p2.run()"
   ]
  },
  {
   "cell_type": "markdown",
   "metadata": {},
   "source": [
    "# Problem 3: ArcLength\n",
    "## Calculates arclength for a function\n",
    "Outputs y(x) vs s(x), very cool"
   ]
  },
  {
   "cell_type": "code",
   "execution_count": 4,
   "metadata": {
    "collapsed": false
   },
   "outputs": [
    {
     "data": {
      "image/png": "[encoded data removed]",
      "text/plain": [
       "<matplotlib.figure.Figure at 0x7f9a4d3763d0>"
      ]
     },
     "metadata": {},
     "output_type": "display_data"
    }
   ],
   "source": [
    "p3.part_3()"
   ]
  },
  {
   "cell_type": "markdown",
   "metadata": {},
   "source": [
    "# Problem 4: sin_Taylor_series_diffeq\n",
    "## approximates sin using taylor series\n",
    "outputs are the point, x, at which the series was evaluated, n, the number of terms, and s_n, the output of the series."
   ]
  },
  {
   "cell_type": "code",
   "execution_count": 5,
   "metadata": {
    "collapsed": false
   },
   "outputs": [
    {
     "name": "stdout",
     "output_type": "stream",
     "text": [
      "x | n | s_n\n",
      "0.0 | 0 | 0\n",
      "0.111111111111 | 1 | 0\n",
      "0.222222222222 | 2 | -0.00182898948331\n",
      "0.333333333333 | 3 | -0.00613854595336\n",
      "0.444444444444 | 4 | -0.0144880827774\n",
      "0.555555555556 | 5 | -0.0281401697448\n",
      "0.666666666667 | 6 | -0.0482968635978\n",
      "0.777777777778 | 7 | -0.076079901631\n",
      "0.888888888889 | 8 | -0.112516967588\n",
      "1.0 | 9 | -0.158529015192\n"
     ]
    }
   ],
   "source": [
    "p4.output()"
   ]
  },
  {
   "cell_type": "code",
   "execution_count": null,
   "metadata": {
    "collapsed": true
   },
   "outputs": [],
   "source": []
  }
 ],
 "metadata": {
  "kernelspec": {
   "display_name": "Python 2 (SageMath)",
   "language": "python",
   "name": "python2"
  },
  "language_info": {
   "codemirror_mode": {
    "name": "ipython",
    "version": 2
   },
   "file_extension": ".py",
   "mimetype": "text/x-python",
   "name": "python",
   "nbconvert_exporter": "python",
   "pygments_lexer": "ipython2",
   "version": "2.7.10"
  },
  "name": "HW3.ipynb"
 },
 "nbformat": 4,
 "nbformat_minor": 0
}
